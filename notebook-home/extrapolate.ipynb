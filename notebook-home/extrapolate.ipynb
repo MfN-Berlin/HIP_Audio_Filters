{
 "cells": [
  {
   "cell_type": "code",
   "execution_count": 2,
   "metadata": {},
   "outputs": [],
   "source": [
    "library(ggplot2)"
   ]
  },
  {
   "cell_type": "code",
   "execution_count": 6,
   "metadata": {},
   "outputs": [],
   "source": [
    "# Read the downloaded data\n",
    "data_file <- \"./data/Globicephala_melas.csv\"\n",
    "audiogram <- read.table(data_file, header=TRUE, sep=\",\")\n",
    "#head(audiogram)"
   ]
  },
  {
   "cell_type": "code",
   "execution_count": 75,
   "metadata": {},
   "outputs": [],
   "source": [
    "# Frequency and SPL limits\n",
    "limits_x <- c(0.01, 100)  # Frequencies from 10Hz to 24kHz\n",
    "limits_y <- c(-50, 250)  # SPL from -50 to 160 dB\n"
   ]
  },
  {
   "cell_type": "code",
   "execution_count": 76,
   "metadata": {},
   "outputs": [
    {
     "data": {
      "text/html": [
       "<table>\n",
       "<caption>A data.frame: 26 × 2</caption>\n",
       "<thead>\n",
       "\t<tr><th scope=col>Frequency.in.kHz</th><th scope=col>SPL</th></tr>\n",
       "\t<tr><th scope=col>&lt;dbl&gt;</th><th scope=col>&lt;dbl&gt;</th></tr>\n",
       "</thead>\n",
       "<tbody>\n",
       "\t<tr><td>  0.01000000</td><td> 79.93058</td></tr>\n",
       "\t<tr><td>  0.01445440</td><td> 79.92670</td></tr>\n",
       "\t<tr><td>  0.02089296</td><td> 79.92109</td></tr>\n",
       "\t<tr><td>  0.03019952</td><td> 79.91298</td></tr>\n",
       "\t<tr><td>  0.04365158</td><td> 79.90126</td></tr>\n",
       "\t<tr><td>  0.06309573</td><td> 79.88433</td></tr>\n",
       "\t<tr><td>  0.09120108</td><td> 79.85987</td></tr>\n",
       "\t<tr><td>  0.13182567</td><td> 79.82453</td></tr>\n",
       "\t<tr><td>  0.19054607</td><td> 79.77349</td></tr>\n",
       "\t<tr><td>  0.27542287</td><td> 79.69980</td></tr>\n",
       "\t<tr><td>  0.39810717</td><td> 79.59346</td></tr>\n",
       "\t<tr><td>  0.57543994</td><td> 79.44014</td></tr>\n",
       "\t<tr><td>  0.83176377</td><td> 79.21930</td></tr>\n",
       "\t<tr><td>  1.20226443</td><td> 78.90172</td></tr>\n",
       "\t<tr><td>  1.73780083</td><td> 78.44604</td></tr>\n",
       "\t<tr><td>  2.51188643</td><td> 77.79433</td></tr>\n",
       "\t<tr><td>  3.63078055</td><td> 76.86655</td></tr>\n",
       "\t<tr><td>  5.24807460</td><td> 75.55421</td></tr>\n",
       "\t<tr><td>  7.58577575</td><td> 73.71334</td></tr>\n",
       "\t<tr><td> 10.96478196</td><td> 71.15666</td></tr>\n",
       "\t<tr><td> 15.84893192</td><td> 67.64832</td></tr>\n",
       "\t<tr><td> 22.90867653</td><td> 63.04280</td></tr>\n",
       "\t<tr><td> 33.11311215</td><td> 55.80555</td></tr>\n",
       "\t<tr><td> 47.86300923</td><td> 62.88374</td></tr>\n",
       "\t<tr><td> 69.18309709</td><td> 86.03337</td></tr>\n",
       "\t<tr><td>100.00000000</td><td>124.69429</td></tr>\n",
       "</tbody>\n",
       "</table>\n"
      ],
      "text/latex": [
       "A data.frame: 26 × 2\n",
       "\\begin{tabular}{r|ll}\n",
       " Frequency.in.kHz & SPL\\\\\n",
       " <dbl> & <dbl>\\\\\n",
       "\\hline\n",
       "\t   0.01000000 &  79.93058\\\\\n",
       "\t   0.01445440 &  79.92670\\\\\n",
       "\t   0.02089296 &  79.92109\\\\\n",
       "\t   0.03019952 &  79.91298\\\\\n",
       "\t   0.04365158 &  79.90126\\\\\n",
       "\t   0.06309573 &  79.88433\\\\\n",
       "\t   0.09120108 &  79.85987\\\\\n",
       "\t   0.13182567 &  79.82453\\\\\n",
       "\t   0.19054607 &  79.77349\\\\\n",
       "\t   0.27542287 &  79.69980\\\\\n",
       "\t   0.39810717 &  79.59346\\\\\n",
       "\t   0.57543994 &  79.44014\\\\\n",
       "\t   0.83176377 &  79.21930\\\\\n",
       "\t   1.20226443 &  78.90172\\\\\n",
       "\t   1.73780083 &  78.44604\\\\\n",
       "\t   2.51188643 &  77.79433\\\\\n",
       "\t   3.63078055 &  76.86655\\\\\n",
       "\t   5.24807460 &  75.55421\\\\\n",
       "\t   7.58577575 &  73.71334\\\\\n",
       "\t  10.96478196 &  71.15666\\\\\n",
       "\t  15.84893192 &  67.64832\\\\\n",
       "\t  22.90867653 &  63.04280\\\\\n",
       "\t  33.11311215 &  55.80555\\\\\n",
       "\t  47.86300923 &  62.88374\\\\\n",
       "\t  69.18309709 &  86.03337\\\\\n",
       "\t 100.00000000 & 124.69429\\\\\n",
       "\\end{tabular}\n"
      ],
      "text/markdown": [
       "\n",
       "A data.frame: 26 × 2\n",
       "\n",
       "| Frequency.in.kHz &lt;dbl&gt; | SPL &lt;dbl&gt; |\n",
       "|---|---|\n",
       "|   0.01000000 |  79.93058 |\n",
       "|   0.01445440 |  79.92670 |\n",
       "|   0.02089296 |  79.92109 |\n",
       "|   0.03019952 |  79.91298 |\n",
       "|   0.04365158 |  79.90126 |\n",
       "|   0.06309573 |  79.88433 |\n",
       "|   0.09120108 |  79.85987 |\n",
       "|   0.13182567 |  79.82453 |\n",
       "|   0.19054607 |  79.77349 |\n",
       "|   0.27542287 |  79.69980 |\n",
       "|   0.39810717 |  79.59346 |\n",
       "|   0.57543994 |  79.44014 |\n",
       "|   0.83176377 |  79.21930 |\n",
       "|   1.20226443 |  78.90172 |\n",
       "|   1.73780083 |  78.44604 |\n",
       "|   2.51188643 |  77.79433 |\n",
       "|   3.63078055 |  76.86655 |\n",
       "|   5.24807460 |  75.55421 |\n",
       "|   7.58577575 |  73.71334 |\n",
       "|  10.96478196 |  71.15666 |\n",
       "|  15.84893192 |  67.64832 |\n",
       "|  22.90867653 |  63.04280 |\n",
       "|  33.11311215 |  55.80555 |\n",
       "|  47.86300923 |  62.88374 |\n",
       "|  69.18309709 |  86.03337 |\n",
       "| 100.00000000 | 124.69429 |\n",
       "\n"
      ],
      "text/plain": [
       "   Frequency.in.kHz SPL      \n",
       "1    0.01000000      79.93058\n",
       "2    0.01445440      79.92670\n",
       "3    0.02089296      79.92109\n",
       "4    0.03019952      79.91298\n",
       "5    0.04365158      79.90126\n",
       "6    0.06309573      79.88433\n",
       "7    0.09120108      79.85987\n",
       "8    0.13182567      79.82453\n",
       "9    0.19054607      79.77349\n",
       "10   0.27542287      79.69980\n",
       "11   0.39810717      79.59346\n",
       "12   0.57543994      79.44014\n",
       "13   0.83176377      79.21930\n",
       "14   1.20226443      78.90172\n",
       "15   1.73780083      78.44604\n",
       "16   2.51188643      77.79433\n",
       "17   3.63078055      76.86655\n",
       "18   5.24807460      75.55421\n",
       "19   7.58577575      73.71334\n",
       "20  10.96478196      71.15666\n",
       "21  15.84893192      67.64832\n",
       "22  22.90867653      63.04280\n",
       "23  33.11311215      55.80555\n",
       "24  47.86300923      62.88374\n",
       "25  69.18309709      86.03337\n",
       "26 100.00000000     124.69429"
      ]
     },
     "metadata": {},
     "output_type": "display_data"
    }
   ],
   "source": [
    "# define the fit function\n",
    "audiogram.lo <- loess(\n",
    "    SPL ~ Frequency.in.kHz, \n",
    "    audiogram, \n",
    "    control = loess.control(surface=\"direct\", statistics=\"exact\"))\n",
    "\n",
    "# Frequency.in.kHz, in steps of 1 octave, covering the frequency range in limits_x\n",
    "octaves <- round(log2(limits_x[2]/limits_x[1]))*2\n",
    "seq <- 2^(seq(log2(limits_x[1]), log2(limits_x[2]), length.out=octaves ))\n",
    "\n",
    "# Fitted SPL values, with extrapolation to cover the whole filter range\n",
    "SPL.fit <- predict(audiogram.lo, data.frame(Frequency.in.kHz = seq), se = TRUE)$fit\n",
    "spl.table <- data.frame(seq, SPL.fit)\n",
    "colnames(spl.table) <- c(\"Frequency.in.kHz\", \"SPL\")\n",
    "spl.table"
   ]
  },
  {
   "cell_type": "code",
   "execution_count": 78,
   "metadata": {},
   "outputs": [
    {
     "data": {
      "image/png": "[encoded data removed]",
      "text/plain": [
       "plot without title"
      ]
     },
     "metadata": {
      "image/png": {
       "height": 420,
       "width": 420
      },
      "text/plain": {
       "height": 420,
       "width": 420
      }
     },
     "output_type": "display_data"
    }
   ],
   "source": [
    "\n",
    "ggplot() +\n",
    "    geom_point(data=audiogram, aes(Frequency.in.kHz, SPL)) +\n",
    "    geom_smooth(method=loess, se=TRUE, data=spl.table, aes(Frequency.in.kHz, SPL)) +\n",
    "    scale_x_continuous(limits=limits_x) +\n",
    "    scale_y_continuous(limits=limits_y) +\n",
    "    labs(x=\"Frequency (kHz)\", y=\"Threshold (dB re 1\\u03BCPa)\") +\n",
    "    annotate(\"rect\", xmin=0.02, xmax=24, ymin=limits_y[1], ymax=limits_y[2], alpha=0.2) +\n",
    "    annotate(\"text\", x=12, y=limits_y[2]-20, label=\"Recording\\nrange\\n20Hz - 24kHz\")+\n",
    "    theme_bw()"
   ]
  },
  {
   "cell_type": "code",
   "execution_count": null,
   "metadata": {},
   "outputs": [],
   "source": []
  },
  {
   "cell_type": "code",
   "execution_count": null,
   "metadata": {},
   "outputs": [],
   "source": []
  }
 ],
 "metadata": {
  "kernelspec": {
   "display_name": "R",
   "language": "R",
   "name": "ir"
  },
  "language_info": {
   "codemirror_mode": "r",
   "file_extension": ".r",
   "mimetype": "text/x-r-source",
   "name": "R",
   "pygments_lexer": "r",
   "version": "3.6.1"
  }
 },
 "nbformat": 4,
 "nbformat_minor": 2
}
