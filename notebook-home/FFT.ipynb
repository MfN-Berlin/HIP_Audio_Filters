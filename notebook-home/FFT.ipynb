{
 "cells": [
  {
   "cell_type": "markdown",
   "metadata": {},
   "source": [
    "Notebook for function sto compute and plot FFT"
   ]
  },
  {
   "cell_type": "code",
   "execution_count": null,
   "metadata": {},
   "outputs": [],
   "source": [
    "library(tuneR)\n",
    "\n",
    "comp_fft <- function(sndObj) {\n",
    "  # convert data to range -1, 1\n",
    "  # s1 <- sndObj@.Data\n",
    "  s1 <- sndObj@.Data[!is.na(sndObj@.Data)]\n",
    "    \n",
    "  #s1 <- sndObj@.Data\n",
    "    \n",
    "  s1 <- s1 / 2^(wnObj@bit -1)\n",
    "  # compute fft\n",
    "  n <- length(s1)\n",
    "  p <- fft(s1)\n",
    "\n",
    "  # plot fft\n",
    "  nUniquePts <- ceiling((n+1)/2)\n",
    "  p <- p[1:nUniquePts] #select just the first half since the second half \n",
    "                     # is a mirror image of the first\n",
    "  p <- abs(p)  #take the absolute value, or the magnitude, drop phase info\n",
    "  p <- p / n #scale by the number of points so that\n",
    "           # the magnitude does not depend on the length \n",
    "           # of the signal or on its sampling frequency  \n",
    "  p <- p^2  # square it to get the power \n",
    "\n",
    "  # multiply by two (see technical document for details)\n",
    "  # odd nfft excludes Nyquist point\n",
    "  if (n %% 2 > 0){\n",
    "    p[2:length(p)] <- p[2:length(p)]*2 # we've got odd number of points fft\n",
    "  } else {\n",
    "    p[2: (length(p) -1)] <- p[2: (length(p) -1)]*2 # we've got even number of points fft\n",
    "  }\n",
    "\n",
    "  freqArray <- (0:(nUniquePts-1)) * (sndObj@samp.rate / n) #  create the frequency array \n",
    "}"
   ]
  }
 ],
 "metadata": {
  "kernelspec": {
   "display_name": "R",
   "language": "R",
   "name": "ir"
  },
  "language_info": {
   "codemirror_mode": "r",
   "file_extension": ".r",
   "mimetype": "text/x-r-source",
   "name": "R",
   "pygments_lexer": "r",
   "version": "3.6.1"
  }
 },
 "nbformat": 4,
 "nbformat_minor": 2
}
